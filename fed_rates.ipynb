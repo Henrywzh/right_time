{
 "cells": [
  {
   "cell_type": "code",
   "execution_count": 6,
   "id": "initial_id",
   "metadata": {
    "collapsed": true,
    "ExecuteTime": {
     "end_time": "2024-08-20T08:47:38.081654Z",
     "start_time": "2024-08-20T08:47:38.069902Z"
    }
   },
   "outputs": [
    {
     "data": {
      "text/plain": "            FEDFUNDS\nDATE                \n2020-01-01      1.55\n2020-02-01      1.58\n2020-03-01      0.65\n2020-04-01      0.05\n2020-05-01      0.05\n2020-06-01      0.08\n2020-07-01      0.09\n2020-08-01      0.10\n2020-09-01      0.09\n2020-10-01      0.09\n2020-11-01      0.09\n2020-12-01      0.09\n2021-01-01      0.09\n2021-02-01      0.08\n2021-03-01      0.07\n2021-04-01      0.07\n2021-05-01      0.06\n2021-06-01      0.08\n2021-07-01      0.10\n2021-08-01      0.09\n2021-09-01      0.08\n2021-10-01      0.08\n2021-11-01      0.08\n2021-12-01      0.08\n2022-01-01      0.08\n2022-02-01      0.08\n2022-03-01      0.20\n2022-04-01      0.33\n2022-05-01      0.77\n2022-06-01      1.21\n2022-07-01      1.68\n2022-08-01      2.33\n2022-09-01      2.56\n2022-10-01      3.08\n2022-11-01      3.78\n2022-12-01      4.10\n2023-01-01      4.33\n2023-02-01      4.57\n2023-03-01      4.65\n2023-04-01      4.83\n2023-05-01      5.06\n2023-06-01      5.08\n2023-07-01      5.12\n2023-08-01      5.33\n2023-09-01      5.33\n2023-10-01      5.33\n2023-11-01      5.33\n2023-12-01      5.33\n2024-01-01      5.33\n2024-02-01      5.33\n2024-03-01      5.33\n2024-04-01      5.33\n2024-05-01      5.33\n2024-06-01      5.33",
      "text/html": "<div>\n<style scoped>\n    .dataframe tbody tr th:only-of-type {\n        vertical-align: middle;\n    }\n\n    .dataframe tbody tr th {\n        vertical-align: top;\n    }\n\n    .dataframe thead th {\n        text-align: right;\n    }\n</style>\n<table border=\"1\" class=\"dataframe\">\n  <thead>\n    <tr style=\"text-align: right;\">\n      <th></th>\n      <th>FEDFUNDS</th>\n    </tr>\n    <tr>\n      <th>DATE</th>\n      <th></th>\n    </tr>\n  </thead>\n  <tbody>\n    <tr>\n      <th>2020-01-01</th>\n      <td>1.55</td>\n    </tr>\n    <tr>\n      <th>2020-02-01</th>\n      <td>1.58</td>\n    </tr>\n    <tr>\n      <th>2020-03-01</th>\n      <td>0.65</td>\n    </tr>\n    <tr>\n      <th>2020-04-01</th>\n      <td>0.05</td>\n    </tr>\n    <tr>\n      <th>2020-05-01</th>\n      <td>0.05</td>\n    </tr>\n    <tr>\n      <th>2020-06-01</th>\n      <td>0.08</td>\n    </tr>\n    <tr>\n      <th>2020-07-01</th>\n      <td>0.09</td>\n    </tr>\n    <tr>\n      <th>2020-08-01</th>\n      <td>0.10</td>\n    </tr>\n    <tr>\n      <th>2020-09-01</th>\n      <td>0.09</td>\n    </tr>\n    <tr>\n      <th>2020-10-01</th>\n      <td>0.09</td>\n    </tr>\n    <tr>\n      <th>2020-11-01</th>\n      <td>0.09</td>\n    </tr>\n    <tr>\n      <th>2020-12-01</th>\n      <td>0.09</td>\n    </tr>\n    <tr>\n      <th>2021-01-01</th>\n      <td>0.09</td>\n    </tr>\n    <tr>\n      <th>2021-02-01</th>\n      <td>0.08</td>\n    </tr>\n    <tr>\n      <th>2021-03-01</th>\n      <td>0.07</td>\n    </tr>\n    <tr>\n      <th>2021-04-01</th>\n      <td>0.07</td>\n    </tr>\n    <tr>\n      <th>2021-05-01</th>\n      <td>0.06</td>\n    </tr>\n    <tr>\n      <th>2021-06-01</th>\n      <td>0.08</td>\n    </tr>\n    <tr>\n      <th>2021-07-01</th>\n      <td>0.10</td>\n    </tr>\n    <tr>\n      <th>2021-08-01</th>\n      <td>0.09</td>\n    </tr>\n    <tr>\n      <th>2021-09-01</th>\n      <td>0.08</td>\n    </tr>\n    <tr>\n      <th>2021-10-01</th>\n      <td>0.08</td>\n    </tr>\n    <tr>\n      <th>2021-11-01</th>\n      <td>0.08</td>\n    </tr>\n    <tr>\n      <th>2021-12-01</th>\n      <td>0.08</td>\n    </tr>\n    <tr>\n      <th>2022-01-01</th>\n      <td>0.08</td>\n    </tr>\n    <tr>\n      <th>2022-02-01</th>\n      <td>0.08</td>\n    </tr>\n    <tr>\n      <th>2022-03-01</th>\n      <td>0.20</td>\n    </tr>\n    <tr>\n      <th>2022-04-01</th>\n      <td>0.33</td>\n    </tr>\n    <tr>\n      <th>2022-05-01</th>\n      <td>0.77</td>\n    </tr>\n    <tr>\n      <th>2022-06-01</th>\n      <td>1.21</td>\n    </tr>\n    <tr>\n      <th>2022-07-01</th>\n      <td>1.68</td>\n    </tr>\n    <tr>\n      <th>2022-08-01</th>\n      <td>2.33</td>\n    </tr>\n    <tr>\n      <th>2022-09-01</th>\n      <td>2.56</td>\n    </tr>\n    <tr>\n      <th>2022-10-01</th>\n      <td>3.08</td>\n    </tr>\n    <tr>\n      <th>2022-11-01</th>\n      <td>3.78</td>\n    </tr>\n    <tr>\n      <th>2022-12-01</th>\n      <td>4.10</td>\n    </tr>\n    <tr>\n      <th>2023-01-01</th>\n      <td>4.33</td>\n    </tr>\n    <tr>\n      <th>2023-02-01</th>\n      <td>4.57</td>\n    </tr>\n    <tr>\n      <th>2023-03-01</th>\n      <td>4.65</td>\n    </tr>\n    <tr>\n      <th>2023-04-01</th>\n      <td>4.83</td>\n    </tr>\n    <tr>\n      <th>2023-05-01</th>\n      <td>5.06</td>\n    </tr>\n    <tr>\n      <th>2023-06-01</th>\n      <td>5.08</td>\n    </tr>\n    <tr>\n      <th>2023-07-01</th>\n      <td>5.12</td>\n    </tr>\n    <tr>\n      <th>2023-08-01</th>\n      <td>5.33</td>\n    </tr>\n    <tr>\n      <th>2023-09-01</th>\n      <td>5.33</td>\n    </tr>\n    <tr>\n      <th>2023-10-01</th>\n      <td>5.33</td>\n    </tr>\n    <tr>\n      <th>2023-11-01</th>\n      <td>5.33</td>\n    </tr>\n    <tr>\n      <th>2023-12-01</th>\n      <td>5.33</td>\n    </tr>\n    <tr>\n      <th>2024-01-01</th>\n      <td>5.33</td>\n    </tr>\n    <tr>\n      <th>2024-02-01</th>\n      <td>5.33</td>\n    </tr>\n    <tr>\n      <th>2024-03-01</th>\n      <td>5.33</td>\n    </tr>\n    <tr>\n      <th>2024-04-01</th>\n      <td>5.33</td>\n    </tr>\n    <tr>\n      <th>2024-05-01</th>\n      <td>5.33</td>\n    </tr>\n    <tr>\n      <th>2024-06-01</th>\n      <td>5.33</td>\n    </tr>\n  </tbody>\n</table>\n</div>"
     },
     "execution_count": 6,
     "metadata": {},
     "output_type": "execute_result"
    }
   ],
   "source": [
    "import numpy as np\n",
    "import pandas as pd\n",
    "import matplotlib.pyplot as plt\n",
    "import seaborn as sns\n",
    "import yfinance as yf\n",
    "from datetime import datetime, timedelta\n",
    "\n",
    "fed_rates = pd.read_csv('/Users/henrywzh/Documents/data/FEDFUNDS.csv')\n",
    "fed_rates['DATE'] = pd.to_datetime(fed_rates['DATE'])\n",
    "fed_rates.set_index('DATE', inplace=True)\n",
    "fed_rates[fed_rates.index >= '2020-01-01']"
   ]
  },
  {
   "cell_type": "code",
   "outputs": [
    {
     "name": "stderr",
     "output_type": "stream",
     "text": [
      "[*********************100%%**********************]  2 of 2 completed\n"
     ]
    },
    {
     "data": {
      "text/plain": "Ticker            ^GSPC          ^HSI\nDate                                 \n1987-01-02   246.449997   2540.100098\n1987-01-05   252.190002   2552.399902\n1987-01-06   252.779999   2583.899902\n1987-01-07   255.330002   2607.100098\n1987-01-08   257.279999   2603.300049\n...                 ...           ...\n2024-08-12  5344.390137  17111.650391\n2024-08-13  5434.430176  17174.060547\n2024-08-14  5455.209961  17113.359375\n2024-08-15  5543.220215  17109.140625\n2024-08-16  5554.250000  17430.160156\n\n[9707 rows x 2 columns]",
      "text/html": "<div>\n<style scoped>\n    .dataframe tbody tr th:only-of-type {\n        vertical-align: middle;\n    }\n\n    .dataframe tbody tr th {\n        vertical-align: top;\n    }\n\n    .dataframe thead th {\n        text-align: right;\n    }\n</style>\n<table border=\"1\" class=\"dataframe\">\n  <thead>\n    <tr style=\"text-align: right;\">\n      <th>Ticker</th>\n      <th>^GSPC</th>\n      <th>^HSI</th>\n    </tr>\n    <tr>\n      <th>Date</th>\n      <th></th>\n      <th></th>\n    </tr>\n  </thead>\n  <tbody>\n    <tr>\n      <th>1987-01-02</th>\n      <td>246.449997</td>\n      <td>2540.100098</td>\n    </tr>\n    <tr>\n      <th>1987-01-05</th>\n      <td>252.190002</td>\n      <td>2552.399902</td>\n    </tr>\n    <tr>\n      <th>1987-01-06</th>\n      <td>252.779999</td>\n      <td>2583.899902</td>\n    </tr>\n    <tr>\n      <th>1987-01-07</th>\n      <td>255.330002</td>\n      <td>2607.100098</td>\n    </tr>\n    <tr>\n      <th>1987-01-08</th>\n      <td>257.279999</td>\n      <td>2603.300049</td>\n    </tr>\n    <tr>\n      <th>...</th>\n      <td>...</td>\n      <td>...</td>\n    </tr>\n    <tr>\n      <th>2024-08-12</th>\n      <td>5344.390137</td>\n      <td>17111.650391</td>\n    </tr>\n    <tr>\n      <th>2024-08-13</th>\n      <td>5434.430176</td>\n      <td>17174.060547</td>\n    </tr>\n    <tr>\n      <th>2024-08-14</th>\n      <td>5455.209961</td>\n      <td>17113.359375</td>\n    </tr>\n    <tr>\n      <th>2024-08-15</th>\n      <td>5543.220215</td>\n      <td>17109.140625</td>\n    </tr>\n    <tr>\n      <th>2024-08-16</th>\n      <td>5554.250000</td>\n      <td>17430.160156</td>\n    </tr>\n  </tbody>\n</table>\n<p>9707 rows × 2 columns</p>\n</div>"
     },
     "execution_count": 7,
     "metadata": {},
     "output_type": "execute_result"
    }
   ],
   "source": [
    "start_date = '1987-01-01'\n",
    "end_date = '2024-08-19'\n",
    "major_markets = ['^HSI', '^GSPC']\n",
    "df = yf.download(major_markets, start_date, end_date)\n",
    "df_close = df['Close']\n",
    "df_close"
   ],
   "metadata": {
    "collapsed": false,
    "ExecuteTime": {
     "end_time": "2024-08-20T09:05:03.246121Z",
     "start_time": "2024-08-20T09:05:02.588857Z"
    }
   },
   "id": "9374d2d451c2c920",
   "execution_count": 7
  },
  {
   "cell_type": "code",
   "outputs": [],
   "source": [],
   "metadata": {
    "collapsed": false,
    "ExecuteTime": {
     "end_time": "2024-08-20T09:06:28.783113Z",
     "start_time": "2024-08-20T09:06:28.776642Z"
    }
   },
   "id": "2762abc7b2f118f8",
   "execution_count": 7
  },
  {
   "cell_type": "code",
   "outputs": [],
   "source": [],
   "metadata": {
    "collapsed": false
   },
   "id": "24a049b0161ca836"
  }
 ],
 "metadata": {
  "kernelspec": {
   "display_name": "Python 3",
   "language": "python",
   "name": "python3"
  },
  "language_info": {
   "codemirror_mode": {
    "name": "ipython",
    "version": 2
   },
   "file_extension": ".py",
   "mimetype": "text/x-python",
   "name": "python",
   "nbconvert_exporter": "python",
   "pygments_lexer": "ipython2",
   "version": "2.7.6"
  }
 },
 "nbformat": 4,
 "nbformat_minor": 5
}
